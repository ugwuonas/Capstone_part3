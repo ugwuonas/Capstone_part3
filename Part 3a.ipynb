{
 "cells": [
  {
   "cell_type": "code",
   "execution_count": 1,
   "id": "c8af536a",
   "metadata": {},
   "outputs": [],
   "source": [
    "import pyodbc\n",
    "import psycopg2"
   ]
  },
  {
   "cell_type": "markdown",
   "id": "bca83d7f",
   "metadata": {},
   "source": [
    "## Connect to the Access database"
   ]
  },
  {
   "cell_type": "code",
   "execution_count": 2,
   "id": "c3caad81",
   "metadata": {},
   "outputs": [],
   "source": [
    "def get_access_connection(access_conn_str):\n",
    "    access_conn = pyodbc.connect(access_conn_str)\n",
    "    return access_conn"
   ]
  },
  {
   "cell_type": "code",
   "execution_count": 3,
   "id": "1c47b7b5",
   "metadata": {},
   "outputs": [],
   "source": [
    "access_db_file = r\"C:\\Users\\its_soppie\\Downloads\\PUB150\\WPI.mdb\"\n",
    "access_conn_str = f\"Driver={{Microsoft Access Driver (*.mdb, *.accdb)}};DBQ={access_db_file}\"\n",
    "access_conn = get_access_connection(access_conn_str)\n",
    "access_cursor = access_conn.cursor()"
   ]
  },
  {
   "cell_type": "markdown",
   "id": "b76d41f2",
   "metadata": {},
   "source": [
    "## Connect to the PostgreSQL database"
   ]
  },
  {
   "cell_type": "code",
   "execution_count": 4,
   "id": "e234079c",
   "metadata": {},
   "outputs": [],
   "source": [
    "def get_pg_connection(host, database, user, password):\n",
    "    pg_conn = psycopg2.connect(host = host, database = database, user = user, password = password)\n",
    "    return pg_conn"
   ]
  },
  {
   "cell_type": "code",
   "execution_count": 5,
   "id": "c3c405d3",
   "metadata": {},
   "outputs": [],
   "source": [
    "pg_conn = get_pg_connection('localhost', 'Capstone', 'postgres', 'Le@rn1ng')\n",
    "pg_cur = pg_conn.cursor()"
   ]
  },
  {
   "cell_type": "markdown",
   "id": "7aee8b85",
   "metadata": {},
   "source": [
    "Test connection to Access database "
   ]
  },
  {
   "cell_type": "code",
   "execution_count": 8,
   "id": "5f519db9",
   "metadata": {},
   "outputs": [
    {
     "name": "stdout",
     "output_type": "stream",
     "text": [
      "~TMPCLP62091\n",
      "Country Codes\n",
      "Country Codes Old\n",
      "Depth Code LUT\n",
      "Drydock/Marine Railway Code LUT\n",
      "Harbor Size LUT\n",
      "Harbor Type LUT\n",
      "Maximum Size Vessel LUT\n",
      "Repairs Code LUT\n",
      "Shelter Afforded LUT\n",
      "Wpi Data\n",
      "WPI Import\n",
      "WPI Region\n"
     ]
    }
   ],
   "source": [
    "for i in access_cursor.tables(tableType='Table'):\n",
    "    print(i.table_name)"
   ]
  },
  {
   "cell_type": "markdown",
   "id": "e2b2e3fb",
   "metadata": {},
   "source": [
    "Execute a SELECT query to retrieve the data from the 'Wpi Data' table in Access"
   ]
  },
  {
   "cell_type": "code",
   "execution_count": 6,
   "id": "c9834201",
   "metadata": {},
   "outputs": [],
   "source": [
    "access_query = 'SELECT * FROM [Wpi data]'\n",
    "access_cursor.execute(access_query)\n",
    "\n",
    "# Fetch the column names and data types from the Access cursor description\n",
    "column_names = [column[0] for column in access_cursor.description]\n",
    "column_data_types = [column[1] for column in access_cursor.description]"
   ]
  },
  {
   "cell_type": "markdown",
   "id": "075bd3a7",
   "metadata": {},
   "source": [
    "##  Create a table in the PostgreSQL database dynamically "
   ]
  },
  {
   "cell_type": "markdown",
   "id": "0bb41dcc",
   "metadata": {},
   "source": [
    " Create a data type mapping dictionary "
   ]
  },
  {
   "cell_type": "code",
   "execution_count": 9,
   "id": "8c33a80a",
   "metadata": {},
   "outputs": [],
   "source": [
    "data_type_mapping = {\n",
    "    'int': 'INTEGER',\n",
    "    'float': 'REAL',\n",
    "    'str': 'VARCHAR',\n",
    "    'datetime': 'TIMESTAMP',\n",
    "}"
   ]
  },
  {
   "cell_type": "markdown",
   "id": "680ed830",
   "metadata": {},
   "source": [
    "CREATE TABLE dynamically based on the column names and data types"
   ]
  },
  {
   "cell_type": "code",
   "execution_count": null,
   "id": "1e4d1fd9",
   "metadata": {},
   "outputs": [],
   "source": [
    "create_table_query = f'''\n",
    "    CREATE TABLE wpi_data (\n",
    "        {', '.join([f'\"{col}\" {data_type_mapping.get(dtype.__name__, \"VARCHAR\")}' for col, dtype in zip(column_names, column_data_types)])}\n",
    "    )\n",
    "'''\n",
    "pg_cur.execute(create_table_query)\n",
    "pg_conn.commit()"
   ]
  },
  {
   "cell_type": "markdown",
   "id": "280e37d1",
   "metadata": {},
   "source": [
    "## Insert data into PostgreSQL dynamically"
   ]
  },
  {
   "cell_type": "code",
   "execution_count": null,
   "id": "4a98f9ab",
   "metadata": {},
   "outputs": [],
   "source": [
    "for row in access_cursor:\n",
    "    insert_query = f'''\n",
    "        INSERT INTO wpi_data ({', '.join([f'\"{col}\"' for col in column_names])})\n",
    "        VALUES ({', '.join(['%s' for _ in column_names])})\n",
    "    '''\n",
    "    pg_cur.execute(insert_query, row)\n",
    "\n",
    "# Commit the changes to the PostgreSQL database\n",
    "pg_conn.commit()"
   ]
  },
  {
   "cell_type": "markdown",
   "id": "cc07dc4e",
   "metadata": {},
   "source": [
    "## Close the cursors and connections"
   ]
  },
  {
   "cell_type": "code",
   "execution_count": null,
   "id": "e774aa00",
   "metadata": {},
   "outputs": [],
   "source": [
    "access_cursor.close()\n",
    "access_conn.close()\n",
    "pg_cur.close()\n",
    "pg_conn.close()"
   ]
  }
 ],
 "metadata": {
  "kernelspec": {
   "display_name": "Python (32-bit)",
   "language": "python",
   "name": "python32bit"
  },
  "language_info": {
   "codemirror_mode": {
    "name": "ipython",
    "version": 3
   },
   "file_extension": ".py",
   "mimetype": "text/x-python",
   "name": "python",
   "nbconvert_exporter": "python",
   "pygments_lexer": "ipython3",
   "version": "3.11.4"
  }
 },
 "nbformat": 4,
 "nbformat_minor": 5
}
