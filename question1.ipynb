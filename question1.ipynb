{
 "cells": [
  {
   "cell_type": "markdown",
   "id": "324f64df",
   "metadata": {},
   "source": [
    "# Question\n",
    "What are the 5 nearest ports to Singapore's JURONG ISLAND port? (country = 'SG',\n",
    "port_name = 'JURONG ISLAND').Your answer should include the columns port_name and\n",
    "distance_in_meters only."
   ]
  },
  {
   "cell_type": "code",
   "execution_count": null,
   "id": "9b4c5912",
   "metadata": {},
   "outputs": [],
   "source": [
    "import psycopg2\n",
    "import os "
   ]
  },
  {
   "cell_type": "markdown",
   "id": "065772ee",
   "metadata": {},
   "source": [
    "## Connect to the PostgreSQL database"
   ]
  },
  {
   "cell_type": "code",
   "execution_count": null,
   "id": "cdcb42cf",
   "metadata": {},
   "outputs": [],
   "source": [
    "def get_pg_connection(host, database, user, password):\n",
    "    pg_conn = psycopg2.connect(host = host, database = database, user = user, password = password)\n",
    "    return pg_conn\n",
    "pg_conn = get_pg_connection('localhost', 'Capstone', os.environ['user'], os.environ['password'])\n",
    "pg_cur = pg_conn.cursor()"
   ]
  },
  {
   "cell_type": "markdown",
   "id": "654cf0d1",
   "metadata": {},
   "source": [
    "## SQL Query "
   ]
  },
  {
   "cell_type": "code",
   "execution_count": null,
   "id": "ee6b08dd",
   "metadata": {},
   "outputs": [],
   "source": [
    "sql_query = \"\"\"\n",
    "    CREATE TABLE nearest_ports_to_jurong_island AS\n",
    "    SELECT \"Main_port_name\", \"Wpi_country_code\",\n",
    "           ( 6371000 * ACOS(\n",
    "        SIN(RADIANS(jurong_latitude_degrees) + (jurong_latitude_minutes / 60.0)) *\n",
    "        SIN(RADIANS(\"Latitude_degrees\") + (\"Latitude_minutes\" / 60.0)) +\n",
    "        COS(RADIANS(jurong_latitude_degrees) + (jurong_latitude_minutes / 60.0)) *\n",
    "        COS(RADIANS(\"Latitude_degrees\") + (\"Latitude_minutes\" / 60.0)) *\n",
    "        COS(RADIANS(\"Longitude_degrees\") + (\"Longitude_minutes\" / 60.0) - RADIANS(jurong_longitude_degrees) - (jurong_longitude_minutes / 60.0)) \n",
    "        )) AS distance_in_meters\n",
    "    FROM wpi_data, (SELECT \"Latitude_degrees\" AS jurong_latitude_degrees, \"Latitude_minutes\" AS jurong_latitude_minutes, \"Longitude_degrees\" AS jurong_longitude_degrees, \"Longitude_minutes\" AS jurong_longitude_minutes\n",
    "                    FROM wpi_data\n",
    "                    WHERE \"Main_port_name\" = 'JURONG ISLAND' AND \"Wpi_country_code\" = 'SG') AS jurong_island\n",
    "    WHERE \"Main_port_name\" != 'JURONG ISLAND'\n",
    "    ORDER BY distance_in_meters\n",
    "    LIMIT 5\n",
    "\"\"\"\n",
    "pg_cur.execute(sql_query)\n",
    "\n",
    "# Commit the changes to the database\n",
    "pg_conn.commit()"
   ]
  },
  {
   "cell_type": "markdown",
   "id": "f1918843",
   "metadata": {},
   "source": [
    "## Close the cursor and connection"
   ]
  },
  {
   "cell_type": "code",
   "execution_count": null,
   "id": "c6007a39",
   "metadata": {},
   "outputs": [],
   "source": [
    "pg_cur.close()\n",
    "pg_conn.close()"
   ]
  }
 ],
 "metadata": {
  "kernelspec": {
   "display_name": "Python (32-bit)",
   "language": "python",
   "name": "python32bit"
  },
  "language_info": {
   "codemirror_mode": {
    "name": "ipython",
    "version": 3
   },
   "file_extension": ".py",
   "mimetype": "text/x-python",
   "name": "python",
   "nbconvert_exporter": "python",
   "pygments_lexer": "ipython3",
   "version": "3.11.4"
  }
 },
 "nbformat": 4,
 "nbformat_minor": 5
}
