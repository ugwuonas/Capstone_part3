{
 "cells": [
  {
   "cell_type": "markdown",
   "id": "8705872f",
   "metadata": {},
   "source": [
    "# Question \n",
    "Which country has the largest number of ports with a cargo_wharf? Your answer should\n",
    "include the columns country and port_count only."
   ]
  },
  {
   "cell_type": "code",
   "execution_count": null,
   "id": "9b4c5912",
   "metadata": {},
   "outputs": [],
   "source": [
    "import psycopg2\n",
    "import os "
   ]
  },
  {
   "cell_type": "markdown",
   "id": "065772ee",
   "metadata": {},
   "source": [
    "## Connect to the PostgreSQL database"
   ]
  },
  {
   "cell_type": "code",
   "execution_count": null,
   "id": "cdcb42cf",
   "metadata": {},
   "outputs": [],
   "source": [
    "def get_pg_connection(host, database, user, password):\n",
    "    pg_conn = psycopg2.connect(host = host, database = database, user = user, password = password)\n",
    "    return pg_conn\n",
    "pg_conn = get_pg_connection('localhost', 'Capstone', os.environ['user'], os.environ['password'])\n",
    "pg_cur = pg_conn.cursor()"
   ]
  },
  {
   "cell_type": "markdown",
   "id": "a201896c",
   "metadata": {},
   "source": [
    "## SQL Query "
   ]
  },
  {
   "cell_type": "code",
   "execution_count": null,
   "id": "326b51e5",
   "metadata": {},
   "outputs": [],
   "source": [
    "sql_query = \"\"\" \n",
    "    CREATE TABLE largest_num_of_ports AS\n",
    "    SELECT \"Wpi_country_code\" AS country, COUNT(DISTINCT (\"Main_port_name\")) AS port_count \n",
    "    FROM wpi_data\n",
    "    WHERE \"Load_offload_wharves\" = 'Y'\n",
    "    GROUP BY country\n",
    "    ORDER BY port_count DESC\n",
    "    LIMIT 1\n",
    "\"\"\"\n",
    "pg_cur.execute(sql_query)\n",
    "\n",
    "pg_conn.commit()"
   ]
  },
  {
   "cell_type": "markdown",
   "id": "f1918843",
   "metadata": {},
   "source": [
    "## Close the cursor and connection"
   ]
  },
  {
   "cell_type": "code",
   "execution_count": null,
   "id": "c6007a39",
   "metadata": {},
   "outputs": [],
   "source": [
    "pg_cur.close()\n",
    "pg_conn.close()"
   ]
  }
 ],
 "metadata": {
  "kernelspec": {
   "display_name": "Python (32-bit)",
   "language": "python",
   "name": "python32bit"
  },
  "language_info": {
   "codemirror_mode": {
    "name": "ipython",
    "version": 3
   },
   "file_extension": ".py",
   "mimetype": "text/x-python",
   "name": "python",
   "nbconvert_exporter": "python",
   "pygments_lexer": "ipython3",
   "version": "3.11.4"
  }
 },
 "nbformat": 4,
 "nbformat_minor": 5
}
