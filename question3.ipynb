{
 "cells": [
  {
   "cell_type": "markdown",
   "id": "21f29edc",
   "metadata": {},
   "source": [
    "# Question\n",
    "You receive a distress call from the middle of the North Atlantic Ocean. The person on\n",
    "the line gave you a coordinates of lat: 32.610982, long: -38.706256 and asked for the nearest\n",
    "port with provisions, water, fuel_oil and diesel. Your answer should include the columns\n",
    "country, port_name, port_latitude and port_longitude only."
   ]
  },
  {
   "cell_type": "code",
   "execution_count": null,
   "id": "9b4c5912",
   "metadata": {},
   "outputs": [],
   "source": [
    "import psycopg2\n",
    "import os "
   ]
  },
  {
   "cell_type": "markdown",
   "id": "065772ee",
   "metadata": {},
   "source": [
    "## Connect to the PostgreSQL database"
   ]
  },
  {
   "cell_type": "code",
   "execution_count": null,
   "id": "cdcb42cf",
   "metadata": {},
   "outputs": [],
   "source": [
    "def get_pg_connection(host, database, user, password):\n",
    "    pg_conn = psycopg2.connect(host = host, database = database, user = user, password = password)\n",
    "    return pg_conn\n",
    "pg_conn = get_pg_connection('localhost', 'Capstone', os.environ['user'], os.environ['password'])\n",
    "pg_cur = pg_conn.cursor()"
   ]
  },
  {
   "cell_type": "markdown",
   "id": "d1953b4b",
   "metadata": {},
   "source": [
    "## SQL Query "
   ]
  },
  {
   "cell_type": "code",
   "execution_count": null,
   "id": "f195fdae",
   "metadata": {},
   "outputs": [],
   "source": [
    "lat= 32.610982\n",
    "long= -38.706256\n",
    "\n",
    "sql_query = f\"\"\" \n",
    "    CREATE TABLE nearest_port_with_provvisions AS\n",
    "    SELECT \"Wpi_country_code\" AS country,\"Main_port_name\" AS port_name, \"Longitude_degrees\" AS port_longitude, \"Latitude_degrees\" AS port_latitude \n",
    "    FROM wpi_data \n",
    "    WHERE \"Supplies_provisions\" = 'Y'AND \"Supplies_water\" = 'Y'AND \"Supplies_fuel_oil\" = 'Y'AND \"Supplies_diesel_oil\" = 'Y'\n",
    "    ORDER BY (6371000 * ACOS(\n",
    "        SIN(RADIANS({lat})) * SIN(RADIANS(\"Latitude_degrees\")) +\n",
    "        COS(RADIANS({lat})) * COS(RADIANS(\"Latitude_degrees\")) *\n",
    "        COS(RADIANS(\"Longitude_degrees\") - RADIANS({long}))\n",
    "    ))  \n",
    "    LIMIT 1\n",
    "\"\"\"\n",
    "pg_cur.execute(sql_query)\n",
    "\n",
    "pg_conn.commit()"
   ]
  },
  {
   "cell_type": "markdown",
   "id": "f1918843",
   "metadata": {},
   "source": [
    "## Close the cursor and connection"
   ]
  },
  {
   "cell_type": "code",
   "execution_count": null,
   "id": "124589c1",
   "metadata": {},
   "outputs": [],
   "source": [
    "pg_cur.close()\n",
    "pg_conn.close()"
   ]
  }
 ],
 "metadata": {
  "kernelspec": {
   "display_name": "Python (32-bit)",
   "language": "python",
   "name": "python32bit"
  },
  "language_info": {
   "codemirror_mode": {
    "name": "ipython",
    "version": 3
   },
   "file_extension": ".py",
   "mimetype": "text/x-python",
   "name": "python",
   "nbconvert_exporter": "python",
   "pygments_lexer": "ipython3",
   "version": "3.11.4"
  }
 },
 "nbformat": 4,
 "nbformat_minor": 5
}
