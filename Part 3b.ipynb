{
 "cells": [
  {
   "cell_type": "code",
   "execution_count": 4,
   "id": "9b4c5912",
   "metadata": {},
   "outputs": [],
   "source": [
    "import psycopg2"
   ]
  },
  {
   "cell_type": "markdown",
   "id": "065772ee",
   "metadata": {},
   "source": [
    "## Connect to the PostgreSQL database"
   ]
  },
  {
   "cell_type": "code",
   "execution_count": 50,
   "id": "cdcb42cf",
   "metadata": {},
   "outputs": [],
   "source": [
    "def get_pg_connection(host, database, user, password):\n",
    "    pg_conn = psycopg2.connect(host = host, database = database, user = user, password = password)\n",
    "    return pg_conn\n",
    "pg_conn = get_pg_connection('localhost', 'Capstone', 'postgres', 'Le@rn1ng')\n",
    "pg_cur = pg_conn.cursor()"
   ]
  },
  {
   "cell_type": "markdown",
   "id": "324f64df",
   "metadata": {},
   "source": [
    "## Question 1\n",
    "What are the 5 nearest ports to Singapore's JURONG ISLAND port? (country = 'SG',\n",
    "port_name = 'JURONG ISLAND').Your answer should include the columns port_name and\n",
    "distance_in_meters only."
   ]
  },
  {
   "cell_type": "code",
   "execution_count": 42,
   "id": "ee6b08dd",
   "metadata": {},
   "outputs": [],
   "source": [
    "sql_query = \"\"\"\n",
    "    CREATE TABLE nearest_ports_to_jurong_island AS\n",
    "    SELECT \"Main_port_name\", \"Wpi_country_code\",\n",
    "           ( 6371000 * ACOS(\n",
    "        SIN(RADIANS(jurong_latitude_degrees) + (jurong_latitude_minutes / 60.0)) *\n",
    "        SIN(RADIANS(\"Latitude_degrees\") + (\"Latitude_minutes\" / 60.0)) +\n",
    "        COS(RADIANS(jurong_latitude_degrees) + (jurong_latitude_minutes / 60.0)) *\n",
    "        COS(RADIANS(\"Latitude_degrees\") + (\"Latitude_minutes\" / 60.0)) *\n",
    "        COS(RADIANS(\"Longitude_degrees\") + (\"Longitude_minutes\" / 60.0) - RADIANS(jurong_longitude_degrees) - (jurong_longitude_minutes / 60.0)) \n",
    "        )) AS distance_in_meters\n",
    "    FROM wpi_data, (SELECT \"Latitude_degrees\" AS jurong_latitude_degrees, \"Latitude_minutes\" AS jurong_latitude_minutes, \"Longitude_degrees\" AS jurong_longitude_degrees, \"Longitude_minutes\" AS jurong_longitude_minutes\n",
    "                    FROM wpi_data\n",
    "                    WHERE \"Main_port_name\" = 'JURONG ISLAND' AND \"Wpi_country_code\" = 'SG') AS jurong_island\n",
    "    WHERE \"Main_port_name\" != 'JURONG ISLAND'\n",
    "    ORDER BY distance_in_meters\n",
    "    LIMIT 5\n",
    "\"\"\"\n",
    "pg_cur.execute(sql_query)\n",
    "\n",
    "# Commit the changes to the database\n",
    "pg_conn.commit()"
   ]
  },
  {
   "cell_type": "markdown",
   "id": "8705872f",
   "metadata": {},
   "source": [
    "## Question 2\n",
    "Which country has the largest number of ports with a cargo_wharf? Your answer should\n",
    "include the columns country and port_count only."
   ]
  },
  {
   "cell_type": "code",
   "execution_count": 46,
   "id": "326b51e5",
   "metadata": {},
   "outputs": [],
   "source": [
    "sql_query = \"\"\" \n",
    "    CREATE TABLE largest_num_of_ports AS\n",
    "    SELECT \"Wpi_country_code\" AS country, COUNT(DISTINCT (\"Main_port_name\")) AS port_count \n",
    "    FROM wpi_data\n",
    "    WHERE \"Load_offload_wharves\" = 'Y'\n",
    "    GROUP BY country\n",
    "    ORDER BY port_count DESC\n",
    "    LIMIT 1\n",
    "\"\"\"\n",
    "pg_cur.execute(sql_query)\n",
    "\n",
    "pg_conn.commit()"
   ]
  },
  {
   "cell_type": "markdown",
   "id": "21f29edc",
   "metadata": {},
   "source": [
    "## Question 3\n",
    "You receive a distress call from the middle of the North Atlantic Ocean. The person on\n",
    "the line gave you a coordinates of lat: 32.610982, long: -38.706256 and asked for the nearest\n",
    "port with provisions, water, fuel_oil and diesel. Your answer should include the columns\n",
    "country, port_name, port_latitude and port_longitude only."
   ]
  },
  {
   "cell_type": "code",
   "execution_count": 52,
   "id": "f195fdae",
   "metadata": {},
   "outputs": [],
   "source": [
    "lat= 32.610982\n",
    "long= -38.706256\n",
    "\n",
    "sql_query = f\"\"\" \n",
    "    CREATE TABLE nearest_port_with_provvisions AS\n",
    "    SELECT \"Wpi_country_code\" AS country,\"Main_port_name\" AS port_name, \"Longitude_degrees\" AS port_longitude, \"Latitude_degrees\" AS port_latitude \n",
    "    FROM wpi_data \n",
    "    WHERE \"Supplies_provisions\" = 'Y'AND \"Supplies_water\" = 'Y'AND \"Supplies_fuel_oil\" = 'Y'AND \"Supplies_diesel_oil\" = 'Y'\n",
    "    ORDER BY (6371000 * ACOS(\n",
    "        SIN(RADIANS({lat})) * SIN(RADIANS(\"Latitude_degrees\")) +\n",
    "        COS(RADIANS({lat})) * COS(RADIANS(\"Latitude_degrees\")) *\n",
    "        COS(RADIANS(\"Longitude_degrees\") - RADIANS({long}))\n",
    "    ))  \n",
    "    LIMIT 1\n",
    "\"\"\"\n",
    "pg_cur.execute(sql_query)\n",
    "\n",
    "pg_conn.commit()"
   ]
  },
  {
   "cell_type": "markdown",
   "id": "f1918843",
   "metadata": {},
   "source": [
    "## Close the cursor and connection"
   ]
  },
  {
   "cell_type": "code",
   "execution_count": 53,
   "id": "c6007a39",
   "metadata": {},
   "outputs": [],
   "source": [
    "pg_cur.close()\n",
    "pg_conn.close()"
   ]
  }
 ],
 "metadata": {
  "kernelspec": {
   "display_name": "Python (32-bit)",
   "language": "python",
   "name": "python32bit"
  },
  "language_info": {
   "codemirror_mode": {
    "name": "ipython",
    "version": 3
   },
   "file_extension": ".py",
   "mimetype": "text/x-python",
   "name": "python",
   "nbconvert_exporter": "python",
   "pygments_lexer": "ipython3",
   "version": "3.11.4"
  }
 },
 "nbformat": 4,
 "nbformat_minor": 5
}
